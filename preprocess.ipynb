{
 "cells": [
  {
   "cell_type": "code",
   "execution_count": 4,
   "metadata": {},
   "outputs": [],
   "source": [
    "import json\n",
    "import nltk\n",
    "\n",
    "s_tokenizer = nltk.RegexpTokenizer('[\\w\\' ]+')\n",
    "w_tokenizer = nltk.RegexpTokenizer('[\\w\\']+')"
   ]
  },
  {
   "cell_type": "code",
   "execution_count": 5,
   "metadata": {},
   "outputs": [],
   "source": [
    "def tokenize_to_word(content):\n",
    "    content = content.replace('\\n', '.').replace(\"\\r\", \".\").lower()\n",
    "    ss = s_tokenizer.tokenize(content)\n",
    "    r = []\n",
    "    for s in ss:\n",
    "        r.append(w_tokenizer.tokenize(s))\n",
    "    return r"
   ]
  },
  {
   "cell_type": "code",
   "execution_count": 6,
   "metadata": {},
   "outputs": [],
   "source": [
    "def LCS(x, y):\n",
    "    dp = [[0 for _ in y] for _ in x]\n",
    "    for i in range(len(x)):\n",
    "        for j in range(len(y)):\n",
    "            if i > 0:\n",
    "                dp[i][j] =  max(dp[i][j], dp[i - 1][j])\n",
    "            if j > 0:\n",
    "                dp[i][j] = max(dp[i][j], dp[i][j - 1])\n",
    "            if x[i] == y[j]:\n",
    "                if i > 0 and j > 0: dp[i][j] = max(dp[i][j], dp[i - 1][j - 1] + 1)\n",
    "                else: dp[i][j] = 1   \n",
    "    maxx = 0\n",
    "    for i in range(len(x)):\n",
    "        for j in range(len(y)):\n",
    "            maxx = max(maxx, dp[i][j])\n",
    "    return maxx\n",
    "\n",
    "def rouge(rx, ry):\n",
    "    #global lx, ly\n",
    "    #lx += len(x)\n",
    "    #ly += len(y)\n",
    "    x = rx.lower().split()\n",
    "    y = ry.lower().split()\n",
    "    lcs = LCS(x, y)\n",
    "    if lcs == 0: return 0\n",
    "    recall = lcs * 1.0 / len(y)\n",
    "    precision = lcs * 1.0 / len(x)\n",
    "    beta = precision / (recall + 1e-12)\n",
    "    return (1 + beta * beta) * recall * precision / (recall + beta * beta * precision)"
   ]
  },
  {
   "cell_type": "code",
   "execution_count": 7,
   "metadata": {},
   "outputs": [],
   "source": [
    "import spacy\n",
    "nlp = spacy.load('en_core_web_sm')"
   ]
  },
  {
   "cell_type": "code",
   "execution_count": 8,
   "metadata": {},
   "outputs": [],
   "source": [
    "def tokenize_to_word(content):\n",
    "    return [[]]\n",
    "    r = [[]]\n",
    "    s = nlp(content.lower())\n",
    "    for token in s.doc:\n",
    "        if token.pos_ == 'PUNCT' and token.string != '-':\n",
    "            if len(r[-1]) != 0:\n",
    "                r.append([])\n",
    "            continue\n",
    "        if not token.is_stop:\n",
    "            #r[-1].append((token.string, token.pos_))\n",
    "            r[-1].append(token.string)\n",
    "    return r"
   ]
  },
  {
   "cell_type": "code",
   "execution_count": 9,
   "metadata": {},
   "outputs": [],
   "source": [
    "def load(fnames, test=False):\n",
    "    for fname in fnames:\n",
    "        with open(fname) as f:\n",
    "            for line in f:\n",
    "                obj = json.loads(line)\n",
    "                if not test and len(obj['content']) > 2000:\n",
    "                    continue\n",
    "                yield tokenize_to_word(obj['content']), obj.get('title'), obj['id'], obj['content']"
   ]
  },
  {
   "cell_type": "code",
   "execution_count": 10,
   "metadata": {},
   "outputs": [],
   "source": [
    "from summa.summarizer import summarize\n",
    "from summa import keywords"
   ]
  },
  {
   "cell_type": "code",
   "execution_count": 19,
   "metadata": {},
   "outputs": [],
   "source": [
    "data = load([\"data/raw/bytecup.corpus.train.0.txt\"])\n",
    "cnt = 0\n",
    "sa, sb = 0, 0\n",
    "for sentences, title , _, raw in data: \n",
    "    if cnt > 1000: break\n",
    "    cnt += 1\n",
    "    doc = nlp(raw)\n",
    "    r = []\n",
    "    for ent in doc.ents[: 5]:\n",
    "        r.append(ent.text)\n",
    "    \n",
    "    first_sentence = s_tokenizer.tokenize(raw)[0]\n",
    "    front_keywords = \" \".join(r)\n",
    "    \n",
    "    ta = rouge(title, first_sentence)\n",
    "    tb = rouge(title, front_keywords)\n",
    "    sa += ta\n",
    "    sb += tb\n",
    "    #print(title)\n",
    "    #print(first_sentence)\n",
    "    #print(front_keywords)\n",
    "    #print(ta, tb)\n",
    "    "
   ]
  },
  {
   "cell_type": "code",
   "execution_count": 20,
   "metadata": {},
   "outputs": [
    {
     "data": {
      "text/plain": [
       "(128.80138713973716, 154.63617330917182)"
      ]
     },
     "execution_count": 20,
     "metadata": {},
     "output_type": "execute_result"
    }
   ],
   "source": [
    "sa, sb"
   ]
  },
  {
   "cell_type": "code",
   "execution_count": 152,
   "metadata": {},
   "outputs": [
    {
     "name": "stdout",
     "output_type": "stream",
     "text": [
      "Bill Belichick\n"
     ]
    }
   ],
   "source": [
    "nlp = spacy.load('en_core_web_sm')\n",
    "doc = nlp(\"There are a few topics that Bill Belichick will speak at length about \")\n",
    "for ent in doc.ents:\n",
    "    print(ent.text)"
   ]
  },
  {
   "cell_type": "code",
   "execution_count": 89,
   "metadata": {},
   "outputs": [],
   "source": [
    "from collections import defaultdict\n",
    "def textrank(sentences, w = 3):\n",
    "    sentences_id = []\n",
    "    words = {}\n",
    "    for sentence in sentences:\n",
    "        sentences_id.append([])\n",
    "        for i, token in enumerate(sentence):\n",
    "            if token not in words:\n",
    "                words[token] = len(words)\n",
    "            sentences_id[-1].append(words[token])\n",
    "    \n",
    "    edges_map = [defaultdict(float) for _ in words]\n",
    "    for sid in sentences_id:\n",
    "        for i in range(len(sid)):\n",
    "            for j in range(-w, w):\n",
    "                if i + j >= 0 and i + j < len(sid) and j != 0:\n",
    "                    edges_map[sid[i]][sid[i + j]] += 1\n",
    "    for edges in edges_map:\n",
    "        total = 0\n",
    "        for v in edges: total += edges[v]\n",
    "        for v in edges: edges[v] /= total\n",
    "    \n",
    "    values = graph_solve(edges_map)\n",
    "    words_value  = {}\n",
    "    for word in words:\n",
    "        words_value[word] = values[words[word]]\n",
    "    \n",
    "    r = []\n",
    "    for sentence in sentences:\n",
    "        value = 0\n",
    "        for word in sentence: value += words_value[word]\n",
    "        value /= len(sentence) + 5\n",
    "        r.append((\" \".join(sentence), value))\n",
    "    r.sort(key=lambda o: o[1], reverse=True)\n",
    "    return r\n",
    "    \n",
    "def graph_solve(edges_map, iter_num = 100, discount=0.85):\n",
    "    n = len(edges_map)\n",
    "    values = [100 for i in range(n)]\n",
    "    for it in range(iter_num):\n",
    "        t = [0 for i in range(n)]\n",
    "        for u, edges in enumerate(edges_map):\n",
    "            for v in edges:\n",
    "                weight = edges[v]\n",
    "                t[v] += (1 - discount) + discount * values[u] * weight;\n",
    "        w = t\n",
    "    return w"
   ]
  },
  {
   "cell_type": "code",
   "execution_count": 92,
   "metadata": {},
   "outputs": [
    {
     "name": "stdout",
     "output_type": "stream",
     "text": [
      "The Latest: Biden says on MLK day American values challenged\n"
     ]
    }
   ],
   "source": [
    "data = load([\"data/raw/bytecup.corpus.train.0.txt\"])\n",
    "for sentences, title , _ in data:\n",
    "    \n",
    "    print(title)\n",
    "    r = textrank(sentences)\n",
    "    break"
   ]
  },
  {
   "cell_type": "code",
   "execution_count": 93,
   "metadata": {},
   "outputs": [
    {
     "data": {
      "text/plain": [
       "[(\"Maryland  pastor  denounced  President  Donald  Trump 's  vulgar  description  African  nations\",\n",
       "  101.08881448412697),\n",
       " (\"The  News  Journal  reports  Biden  criticized  President  Donald  Trump 's  response  white  nationalist  rallies  August  Charlottesville  reported  use  obscenity  describe  African  nations  Haiti  recent  immigration  discussion  Congressional  leaders\",\n",
       "  99.00104432604431),\n",
       " (\"Biden  keynote  speaker  Monday  Delaware  State  Bar  Association 's  annual  Martin  Luther  King  Jr.  Day  breakfast  Wilmington\",\n",
       "  94.15939262757446),\n",
       " ('Former  Vice  President  Joe  Biden  says  American  values  challenged  present  times  leadership  Martin  Luther  King  Jr.  provides  example  respond',\n",
       "  89.44961242461244),\n",
       " (\"But  said  believes  Americans  ready  respond  - establish  nation 's \",\n",
       "  85.96223128723129),\n",
       " ('WUSA - TV  reports  Pence  red - faced  times  sermon', 84.90510637510639),\n",
       " (\"Watson  called  Trump 's  remarks \", 78.72928571428571),\n",
       " (\"Pence 's  office  denied  email  Monday  The  Associated  Press\",\n",
       "  78.63225623582767),\n",
       " ('The  Latest  Martin  Luther  King  Jr.  Day  celebrations  country ',\n",
       "  75.16697072768501),\n",
       " ('With  Vice  President  Mike  Pence  sitting  pews', 70.78964692714693),\n",
       " ('reportedly  obscenity  describe  African  nations  Haiti  immigration  discussion  Congressional  leaders ',\n",
       "  68.96351851851851),\n",
       " ('ugly.\"The  pastor  said ', 54.387748015873015),\n",
       " ('delivered  sermon  Sunday  Pence  visiting', 50.96297313797314),\n",
       " ('Watson  said  felt ', 50.168749999999996),\n",
       " ('pastor  Metropolitan  Baptist  Church  Largo', 49.92007936507937),\n",
       " ('noted  congregants  come  African  nations', 48.96666666666667),\n",
       " ('Worshippers  stood  applauded  Watson  spoke', 47.8097619047619),\n",
       " ('times  local):4:15  p.m', 37.770554445554446),\n",
       " ('moral  fabric.\"Said  Biden', 31.987499999999997),\n",
       " ('wrong  held  accountable', 31.987499999999997),\n",
       " ('remind  Americans.\"____3:15 ', 24.32857142857143),\n",
       " ('Maurice  Watson', 24.32857142857143),\n",
       " ('led  God ', 24.32857142857143),\n",
       " ('ALBUQUERQUE', 0.0),\n",
       " ('N.M. ', 0.0),\n",
       " ('AP', 0.0),\n",
       " ('Delaware', 0.0),\n",
       " ('time ', 0.0),\n",
       " ('dehumanizing', 0.0),\n",
       " ('statement', 0.0),\n",
       " ('', 0.0)]"
      ]
     },
     "execution_count": 93,
     "metadata": {},
     "output_type": "execute_result"
    }
   ],
   "source": [
    "con"
   ]
  },
  {
   "cell_type": "code",
   "execution_count": 1,
   "metadata": {},
   "outputs": [],
   "source": [
    "import _thread"
   ]
  },
  {
   "cell_type": "code",
   "execution_count": 15,
   "metadata": {},
   "outputs": [],
   "source": [
    "def calc(sentences, iid):\n",
    "    abstracts = summarize(' . '.join(sentences), scores=True)\n",
    "    sorted(abstracts, key=lambda o:o[1], reverse=True)\n",
    "    with open('data/result/%s.txt' % iid, 'w') as fout:\n",
    "        print(abstracts[0][0][:-1], file=fout)\n",
    "\n",
    "def calc(raw, iid):\n",
    "    doc = nlp(raw)\n",
    "    r = []\n",
    "    for ent in doc.ents[: 5]:\n",
    "        r.append(ent.text)\n",
    "    with open('data/result/%s.txt' % iid, 'w') as fout:\n",
    "        print(\" \".join(r).strip().lower(), file=fout)"
   ]
  },
  {
   "cell_type": "code",
   "execution_count": 16,
   "metadata": {},
   "outputs": [],
   "source": [
    "test = load([\"data/raw/bytecup.corpus.validation_set.txt\"], test=True)\n",
    "for sentences, title, iid, raw in test:\n",
    "    calc(raw, iid)\n",
    "    #calc(sentences, iid)\n",
    "    #_thread.start_new_thread(calc, (raw, iid))"
   ]
  },
  {
   "cell_type": "code",
   "execution_count": null,
   "metadata": {},
   "outputs": [],
   "source": []
  }
 ],
 "metadata": {
  "kernelspec": {
   "display_name": "Python 3",
   "language": "python",
   "name": "python3"
  },
  "language_info": {
   "codemirror_mode": {
    "name": "ipython",
    "version": 3
   },
   "file_extension": ".py",
   "mimetype": "text/x-python",
   "name": "python",
   "nbconvert_exporter": "python",
   "pygments_lexer": "ipython3",
   "version": "3.6.5"
  }
 },
 "nbformat": 4,
 "nbformat_minor": 2
}
