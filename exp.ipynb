{
 "cells": [
  {
   "cell_type": "code",
   "execution_count": 1,
   "metadata": {},
   "outputs": [],
   "source": [
    "import json\n",
    "data = []\n",
    "with open(\"data/raw/bytecup.corpus.train.0.txt\") as f:\n",
    "    for line in f:\n",
    "        data.append(json.loads(line))"
   ]
  },
  {
   "cell_type": "code",
   "execution_count": 2,
   "metadata": {},
   "outputs": [],
   "source": [
    "import nltk"
   ]
  },
  {
   "cell_type": "code",
   "execution_count": 3,
   "metadata": {},
   "outputs": [],
   "source": [
    "s_tokenizer = nltk.RegexpTokenizer('[\\w\\' ]+')\n",
    "w_tokenizer = nltk.RegexpTokenizer('[\\w\\']+')"
   ]
  },
  {
   "cell_type": "code",
   "execution_count": 4,
   "metadata": {},
   "outputs": [
    {
     "name": "stdout",
     "output_type": "stream",
     "text": [
      "0\n",
      "10000\n",
      "20000\n",
      "30000\n",
      "40000\n",
      "50000\n",
      "60000\n",
      "70000\n",
      "80000\n",
      "90000\n",
      "100000\n",
      "110000\n",
      "120000\n",
      "130000\n",
      "140000\n"
     ]
    }
   ],
   "source": [
    "for cnt, d in enumerate(data):\n",
    "    if cnt % 10000 == 0:\n",
    "        print(cnt)\n",
    "    d['sents'] = s_tokenizer.tokenize(d['content'])"
   ]
  },
  {
   "cell_type": "code",
   "execution_count": 5,
   "metadata": {},
   "outputs": [],
   "source": [
    "def LCS(x, y):\n",
    "    dp = [[0 for _ in y] for _ in x]\n",
    "    for i in range(len(x)):\n",
    "        for j in range(len(y)):\n",
    "            if i > 0:\n",
    "                dp[i][j] =  max(dp[i][j], dp[i - 1][j])\n",
    "            if j > 0:\n",
    "                dp[i][j] = max(dp[i][j], dp[i][j - 1])\n",
    "            if x[i] == y[j]:\n",
    "                if i > 0 and j > 0: dp[i][j] = max(dp[i][j], dp[i - 1][j - 1] + 1)\n",
    "                else: dp[i][j] = 1   \n",
    "    maxx = 0\n",
    "    for i in range(len(x)):\n",
    "        for j in range(len(y)):\n",
    "            maxx = max(maxx, dp[i][j])\n",
    "    return maxx\n",
    "\n",
    "def rouge(x, y):\n",
    "    global lx, ly\n",
    "    lx += len(x)\n",
    "    ly += len(y)\n",
    "    lcs = LCS(x, y)\n",
    "    if lcs == 0: return 0\n",
    "    recall = lcs * 1.0 / len(y)\n",
    "    precision = lcs * 1.0 / len(x)\n",
    "    beta = precision / (recall + 1e-12)\n",
    "    return (1 + beta * beta) * recall * precision / (recall + beta * beta * precision)"
   ]
  },
  {
   "cell_type": "code",
   "execution_count": 6,
   "metadata": {},
   "outputs": [],
   "source": [
    "s, c = 0, 0\n",
    "lx = 0\n",
    "ly = 0\n",
    "for d in data[3000:4000]:\n",
    "    maxx = 0\n",
    "    y = w_tokenizer.tokenize(d['title'])\n",
    "    for sent in d['sents']:\n",
    "        x = w_tokenizer.tokenize(sent)\n",
    "        maxx = max(maxx, rouge(x, y))\n",
    "    s += maxx\n",
    "    c += 1"
   ]
  },
  {
   "cell_type": "code",
   "execution_count": 7,
   "metadata": {},
   "outputs": [
    {
     "data": {
      "text/plain": [
       "0.29116533835860325"
      ]
     },
     "execution_count": 7,
     "metadata": {},
     "output_type": "execute_result"
    }
   ],
   "source": [
    "s / c"
   ]
  },
  {
   "cell_type": "code",
   "execution_count": 38,
   "metadata": {},
   "outputs": [
    {
     "data": {
      "text/plain": [
       "u'I\\u2019m an angel investor'"
      ]
     },
     "execution_count": 38,
     "metadata": {},
     "output_type": "execute_result"
    }
   ],
   "source": [
    "import thread\n",
    "\n",
    "def print_time( threadName, delay):\n",
    "   count = 0\n",
    "   while count < 5:\n",
    "      time.sleep(delay)\n",
    "      count += 1\n",
    "      print \"%s: %s\" % ( threadName, time.ctime(time.time()) )\n",
    "\n",
    "   thread.start_new_thread( print_time, (\"Thread-1\", 2, ) )\n",
    "   thread.start_new_thread( print_time, (\"Thread-2\", 4, ) )"
   ]
  },
  {
   "cell_type": "code",
   "execution_count": 71,
   "metadata": {},
   "outputs": [],
   "source": [
    "from __future__ import print_function\n",
    "with open('data/bytecup.corpus.validation_set.txt') as f:\n",
    "    for line in f:\n",
    "        obj = json.loads(line)\n",
    "        content = obj['content']\n",
    "        with open('data/result/%s.txt' % obj['id'], 'w') as fout:\n",
    "            print(s_tokenizer.tokenize(content)[0].encode('utf8'), file=fout)"
   ]
  }
 ],
 "metadata": {
  "kernelspec": {
   "display_name": "Python 3",
   "language": "python",
   "name": "python3"
  },
  "language_info": {
   "codemirror_mode": {
    "name": "ipython",
    "version": 3
   },
   "file_extension": ".py",
   "mimetype": "text/x-python",
   "name": "python",
   "nbconvert_exporter": "python",
   "pygments_lexer": "ipython3",
   "version": "3.6.5"
  }
 },
 "nbformat": 4,
 "nbformat_minor": 2
}
